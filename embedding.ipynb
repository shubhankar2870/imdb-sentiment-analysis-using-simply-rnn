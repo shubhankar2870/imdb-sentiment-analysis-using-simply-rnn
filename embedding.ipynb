{
 "cells": [
  {
   "cell_type": "code",
   "execution_count": 2,
   "metadata": {},
   "outputs": [],
   "source": [
    "from tensorflow.keras.preprocessing.text import one_hot"
   ]
  },
  {
   "cell_type": "code",
   "execution_count": 4,
   "metadata": {},
   "outputs": [],
   "source": [
    "## sentences\n",
    "sent = [\n",
    "    'the glass of milk',\n",
    "    'the glass of juice',\n",
    "    'the cup of tea',\n",
    "    'I am a good boy',\n",
    "    'I am a good developer',\n",
    "    'understand the meaning of words',\n",
    "    'your videos are good'\n",
    "]"
   ]
  },
  {
   "cell_type": "code",
   "execution_count": 5,
   "metadata": {},
   "outputs": [
    {
     "data": {
      "text/plain": [
       "['the glass of milk',\n",
       " 'the glass of juice',\n",
       " 'the cup of tea',\n",
       " 'I am a good boy',\n",
       " 'I am a good developer',\n",
       " 'understand the meaning of words',\n",
       " 'your videos are good']"
      ]
     },
     "execution_count": 5,
     "metadata": {},
     "output_type": "execute_result"
    }
   ],
   "source": [
    "sent"
   ]
  },
  {
   "cell_type": "code",
   "execution_count": 6,
   "metadata": {},
   "outputs": [],
   "source": [
    "## Define vocabulary size\n",
    "voc_size = 10000"
   ]
  },
  {
   "cell_type": "code",
   "execution_count": 7,
   "metadata": {},
   "outputs": [
    {
     "data": {
      "text/plain": [
       "[[6408, 274, 1441, 6398],\n",
       " [6408, 274, 1441, 769],\n",
       " [6408, 8524, 1441, 4214],\n",
       " [1439, 972, 7234, 3948, 6728],\n",
       " [1439, 972, 7234, 3948, 2662],\n",
       " [1064, 6408, 3706, 1441, 3378],\n",
       " [6424, 2868, 6875, 3948]]"
      ]
     },
     "execution_count": 7,
     "metadata": {},
     "output_type": "execute_result"
    }
   ],
   "source": [
    "## One hot representation\n",
    "one_hot_repr = [one_hot(words, voc_size) for words in sent]\n",
    "one_hot_repr"
   ]
  },
  {
   "cell_type": "code",
   "execution_count": 10,
   "metadata": {},
   "outputs": [],
   "source": [
    "## Word embedding representation\n",
    "from tensorflow.keras.layers import Embedding\n",
    "from tensorflow.keras.utils import pad_sequences\n",
    "from tensorflow.keras.models import Sequential\n",
    "\n",
    "import numpy as np"
   ]
  },
  {
   "cell_type": "code",
   "execution_count": 13,
   "metadata": {},
   "outputs": [
    {
     "name": "stdout",
     "output_type": "stream",
     "text": [
      "[[   0    0    0    0 6408  274 1441 6398]\n",
      " [   0    0    0    0 6408  274 1441  769]\n",
      " [   0    0    0    0 6408 8524 1441 4214]\n",
      " [   0    0    0 1439  972 7234 3948 6728]\n",
      " [   0    0    0 1439  972 7234 3948 2662]\n",
      " [   0    0    0 1064 6408 3706 1441 3378]\n",
      " [   0    0    0    0 6424 2868 6875 3948]]\n"
     ]
    }
   ],
   "source": [
    "sent_length = 8\n",
    "embedded_docs = pad_sequences(one_hot_repr, padding='pre', maxlen=sent_length)\n",
    "print(embedded_docs)"
   ]
  },
  {
   "cell_type": "code",
   "execution_count": 14,
   "metadata": {},
   "outputs": [],
   "source": [
    "## feature representation\n",
    "dim = 10"
   ]
  },
  {
   "cell_type": "code",
   "execution_count": 16,
   "metadata": {},
   "outputs": [
    {
     "name": "stdout",
     "output_type": "stream",
     "text": [
      "WARNING:tensorflow:From c:\\Users\\LENOVO\\Desktop\\end to end ml projects\\rnn_project\\venv\\Lib\\site-packages\\keras\\src\\optimizers\\__init__.py:309: The name tf.train.Optimizer is deprecated. Please use tf.compat.v1.train.Optimizer instead.\n",
      "\n"
     ]
    }
   ],
   "source": [
    "model = Sequential()\n",
    "model.add(Embedding(voc_size, dim, input_length=sent_length))\n",
    "model.compile(optimizer='adam', loss='mse')"
   ]
  },
  {
   "cell_type": "code",
   "execution_count": 17,
   "metadata": {},
   "outputs": [
    {
     "name": "stdout",
     "output_type": "stream",
     "text": [
      "Model: \"sequential_1\"\n",
      "_________________________________________________________________\n",
      " Layer (type)                Output Shape              Param #   \n",
      "=================================================================\n",
      " embedding_1 (Embedding)     (None, 8, 10)             100000    \n",
      "                                                                 \n",
      "=================================================================\n",
      "Total params: 100000 (390.62 KB)\n",
      "Trainable params: 100000 (390.62 KB)\n",
      "Non-trainable params: 0 (0.00 Byte)\n",
      "_________________________________________________________________\n"
     ]
    }
   ],
   "source": [
    "model.summary()"
   ]
  },
  {
   "cell_type": "code",
   "execution_count": 20,
   "metadata": {},
   "outputs": [
    {
     "name": "stdout",
     "output_type": "stream",
     "text": [
      "1/1 [==============================] - 0s 113ms/step\n"
     ]
    },
    {
     "data": {
      "text/plain": [
       "array([[ 0.02414849, -0.03012638,  0.04867486, -0.04793939,  0.02923149,\n",
       "         0.02476618, -0.04032129,  0.00213636,  0.00691742, -0.00754889],\n",
       "       [ 0.02414849, -0.03012638,  0.04867486, -0.04793939,  0.02923149,\n",
       "         0.02476618, -0.04032129,  0.00213636,  0.00691742, -0.00754889],\n",
       "       [ 0.02414849, -0.03012638,  0.04867486, -0.04793939,  0.02923149,\n",
       "         0.02476618, -0.04032129,  0.00213636,  0.00691742, -0.00754889],\n",
       "       [ 0.02414849, -0.03012638,  0.04867486, -0.04793939,  0.02923149,\n",
       "         0.02476618, -0.04032129,  0.00213636,  0.00691742, -0.00754889],\n",
       "       [-0.03882322, -0.0245204 ,  0.0409398 ,  0.04327375, -0.01878547,\n",
       "         0.02366594, -0.01987461,  0.02498956,  0.01987013, -0.03823682],\n",
       "       [-0.00804259,  0.01970047, -0.04978743,  0.04726375, -0.02773323,\n",
       "        -0.03562165,  0.03684862,  0.04319472,  0.03772352, -0.00397316],\n",
       "       [ 0.02865184, -0.03902243,  0.0458759 , -0.00443899, -0.03867054,\n",
       "         0.03220526,  0.0441171 , -0.00771819, -0.03028905,  0.02333215],\n",
       "       [ 0.00255557,  0.01863251, -0.01952989,  0.01414918,  0.03462369,\n",
       "         0.01426846, -0.02348497, -0.00116901,  0.00798694,  0.00911563]],\n",
       "      dtype=float32)"
      ]
     },
     "execution_count": 20,
     "metadata": {},
     "output_type": "execute_result"
    }
   ],
   "source": [
    "model.predict(embedded_docs)[0]"
   ]
  },
  {
   "cell_type": "code",
   "execution_count": null,
   "metadata": {},
   "outputs": [],
   "source": []
  }
 ],
 "metadata": {
  "kernelspec": {
   "display_name": "Python 3",
   "language": "python",
   "name": "python3"
  },
  "language_info": {
   "codemirror_mode": {
    "name": "ipython",
    "version": 3
   },
   "file_extension": ".py",
   "mimetype": "text/x-python",
   "name": "python",
   "nbconvert_exporter": "python",
   "pygments_lexer": "ipython3",
   "version": "3.11.9"
  }
 },
 "nbformat": 4,
 "nbformat_minor": 2
}
